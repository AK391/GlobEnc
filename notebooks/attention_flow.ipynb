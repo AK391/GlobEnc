{
 "cells": [
  {
   "cell_type": "code",
   "execution_count": null,
   "metadata": {
    "id": "MaNQn1FHe5Z1",
    "pycharm": {
     "is_executing": false
    }
   },
   "outputs": [],
   "source": [
    "# !pip install transformers==4.18.0\n",
    "# !pip install datasets\n",
    "# !wget https://raw.githubusercontent.com/gorokoba560/norm-analysis-of-transformer/5dc8fb3b541f696288dec46fbd610d97a1a1ade2/emnlp2021/transformers/src/transformers/modeling_bert.py"
   ]
  },
  {
   "cell_type": "markdown",
   "metadata": {},
   "source": [
    "## Setup"
   ]
  },
  {
   "cell_type": "code",
   "execution_count": 51,
   "metadata": {
    "colab": {
     "base_uri": "https://localhost:8080/"
    },
    "id": "OwASO1dYd74m",
    "outputId": "616291ef-7731-4977-85be-6620c303b75f",
    "pycharm": {
     "is_executing": true
    }
   },
   "outputs": [
    {
     "name": "stdout",
     "output_type": "stream",
     "text": [
      "There are 1 GPU(s) available.\n",
      "We will use the GPU: NVIDIA GeForce GTX 1070\n"
     ]
    },
    {
     "data": {
      "text/plain": [
       "{'MODEL_CHECKPOINT': 'TehranNLP-org/bert-large-sst2',\n",
       " 'MODEL_NAME': 'TehranNLP-org/bert-large-sst2',\n",
       " 'DATASET': 'sst2',\n",
       " 'SALIENCY_BLANK_OUT_PATH': '../src/gradients/bert_large_sst2_val_sals.npy',\n",
       " 'SALS_MAX_LENGTH': 64,\n",
       " 'HTA_PATH': './HTA/sst2_val256_HTA_undiv_PreTrained_alllayers.npy',\n",
       " 'FLOW_METHOD': 'rollout',\n",
       " 'NUM_CPUS': 1,\n",
       " 'OUTPUT_HIDDEN_STATES': True,\n",
       " 'DATASET_SIZE_LIMIT': None,\n",
       " 'DELETE_SEP': False}"
      ]
     },
     "execution_count": 51,
     "metadata": {},
     "output_type": "execute_result"
    }
   ],
   "source": [
    "import torch\n",
    "import numpy as np\n",
    "from transformers import AutoTokenizer, BertTokenizer\n",
    "from datasets import load_dataset\n",
    "from tqdm.notebook import tqdm\n",
    "from importlib import reload\n",
    "import pickle\n",
    "import lzma\n",
    "import yaml\n",
    "# from transformers import BertForSequenceClassification\n",
    "\n",
    "\n",
    "SELECTED_GPU = 0\n",
    "if torch.cuda.is_available():\n",
    "    # Tell PyTorch to use the GPU.    \n",
    "    device = torch.device(\"cuda:{}\".format(SELECTED_GPU))\n",
    "    print('There are %d GPU(s) available.' % torch.cuda.device_count())\n",
    "    print('We will use the GPU:', torch.cuda.get_device_name(SELECTED_GPU))\n",
    "else:\n",
    "    device = \"cpu\"\n",
    "\n",
    "ATTENTION_NORM_TYPES = {\n",
    "#     \"head_attn_n\": 0,\n",
    "    \"N\": 1,\n",
    "    \"N-Res\": 2,\n",
    "    \"N-ResLN\": 3,\n",
    "    \"N-Enc\": 4\n",
    "#     \"attn_n_ratio\": 5,\n",
    "#     \"attnres_n_ratio\": 6,\n",
    "#     \"attnresln_n_ratio\": 7\n",
    "#     \"N-Enc_ratio\": 8\n",
    "}\n",
    "\n",
    "class FlowMethods:\n",
    "    ROLLOUT = \"rollout\"\n",
    "    MAX_FLOW = \"maxflow\"\n",
    "\n",
    "with open('../src/configs/experiments_config.yaml', \"r\") as f:\n",
    "    config = yaml.safe_load(f)\n",
    "    \n",
    "### Editable:\n",
    "# Possible Configs: BERT-base    ->  [SST2, MNLI, HATEXPLAIN], \n",
    "#                   BERT-large   ->  [SST2-BERT-large, MNLI-BERT-large, HATEXPLAIN-BERT-large]\n",
    "#                   ELECTRA-base ->  [SST2-ELECTRA, MNLI-ELECTRA, HATEXPLAIN-ELECTRA]\n",
    "config = config[\"SST2-BERT-large\"]  # (Load different experiments config i.e. model, dataset and more)\n",
    "\n",
    "config[\"FLOW_METHOD\"] = FlowMethods.ROLLOUT\n",
    "config[\"NUM_CPUS\"] = 1  # If n<2 ? sequential : use p_map (Just for maxflow)\n",
    "config[\"OUTPUT_HIDDEN_STATES\"] = True  # Default: True (Outputs flow up to each layer)\n",
    "config[\"DATASET_SIZE_LIMIT\"] = None  # Default: None (no limit)\n",
    "config[\"DELETE_SEP\"] = False  # Default: False (Visualizations will not work if set to True)\n",
    "\n",
    "config"
   ]
  },
  {
   "cell_type": "markdown",
   "metadata": {},
   "source": [
    "## Model/Tokenizer/Dataset"
   ]
  },
  {
   "cell_type": "code",
   "execution_count": null,
   "metadata": {
    "colab": {
     "base_uri": "https://localhost:8080/"
    },
    "id": "bnmZXCdif2dq",
    "outputId": "1f8eeb6a-acd9-471d-f0c2-30f2500668b4"
   },
   "outputs": [
    {
     "data": {
      "application/vnd.jupyter.widget-view+json": {
       "model_id": "0feb38899cfa4c4c8c6ae7ab59e7f217",
       "version_major": 2,
       "version_minor": 0
      },
      "text/plain": [
       "Downloading:   0%|          | 0.00/322 [00:00<?, ?B/s]"
      ]
     },
     "metadata": {},
     "output_type": "display_data"
    },
    {
     "data": {
      "application/vnd.jupyter.widget-view+json": {
       "model_id": "edf13ac679f241b8b834f002d3baaa21",
       "version_major": 2,
       "version_minor": 0
      },
      "text/plain": [
       "Downloading:   0%|          | 0.00/226k [00:00<?, ?B/s]"
      ]
     },
     "metadata": {},
     "output_type": "display_data"
    },
    {
     "data": {
      "application/vnd.jupyter.widget-view+json": {
       "model_id": "7fd816db17a44c41af37b44f64fefb61",
       "version_major": 2,
       "version_minor": 0
      },
      "text/plain": [
       "Downloading:   0%|          | 0.00/695k [00:00<?, ?B/s]"
      ]
     },
     "metadata": {},
     "output_type": "display_data"
    },
    {
     "data": {
      "application/vnd.jupyter.widget-view+json": {
       "model_id": "8a8b9c6ad9d2433e84f640c2184f094d",
       "version_major": 2,
       "version_minor": 0
      },
      "text/plain": [
       "Downloading:   0%|          | 0.00/112 [00:00<?, ?B/s]"
      ]
     },
     "metadata": {},
     "output_type": "display_data"
    },
    {
     "data": {
      "application/vnd.jupyter.widget-view+json": {
       "model_id": "ee8a67b887d24dd39163fa689838cb14",
       "version_major": 2,
       "version_minor": 0
      },
      "text/plain": [
       "Downloading:   0%|          | 0.00/878 [00:00<?, ?B/s]"
      ]
     },
     "metadata": {},
     "output_type": "display_data"
    },
    {
     "data": {
      "application/vnd.jupyter.widget-view+json": {
       "model_id": "5768bcf07eba4a53a39f3881b2cdc2de",
       "version_major": 2,
       "version_minor": 0
      },
      "text/plain": [
       "Downloading:   0%|          | 0.00/1.25G [00:00<?, ?B/s]"
      ]
     },
     "metadata": {},
     "output_type": "display_data"
    }
   ],
   "source": [
    "import src.modeling.modeling_bert\n",
    "reload(src.modeling.modeling_bert)\n",
    "import src.modeling.modeling_electra\n",
    "reload(src.modeling.modeling_electra)\n",
    "import src.task_loaders\n",
    "reload(src.task_loaders)\n",
    "\n",
    "tokenizer = AutoTokenizer.from_pretrained(config[\"MODEL_NAME\"])\n",
    "if \"bert\" in config[\"MODEL_NAME\"]:\n",
    "    model = src.modeling.modeling_bert.BertForSequenceClassification.from_pretrained(\n",
    "        config[\"MODEL_CHECKPOINT\"], \n",
    "        local_files_only=False\n",
    "    )\n",
    "elif \"electra\" in config[\"MODEL_NAME\"]:\n",
    "    model = src.modeling.modeling_electra.ElectraForSequenceClassification.from_pretrained(\n",
    "        config[\"MODEL_CHECKPOINT\"], \n",
    "        local_files_only=False\n",
    "    )\n",
    "else:\n",
    "    raise Exception(f\"Not implented model: {config['MODEL_NAME']}\")\n",
    "                    \n",
    "task_loader = src.task_loaders.TaskLoader(tokenizer, count=config[\"DATASET_SIZE_LIMIT\"], \n",
    "                                          max_length=config[\"SALS_MAX_LENGTH\"])\n",
    "\n",
    "dataset, encoder_func = task_loader.load_task(config[\"DATASET\"])"
   ]
  },
  {
   "cell_type": "markdown",
   "metadata": {},
   "source": [
    "## Extract Attentions"
   ]
  },
  {
   "cell_type": "code",
   "execution_count": 6,
   "metadata": {
    "colab": {
     "base_uri": "https://localhost:8080/",
     "height": 49,
     "referenced_widgets": [
      "6dbf9c19c2f04507809736f2fc2b0204",
      "eb1c1c28d03046019546ac3c873b1570",
      "e46069d00558434fb871b09e431c127b",
      "3285707e45b5465384b973ba6789dd51",
      "5ed2be4b2b644030877b8c8dfff212af",
      "aa2270981ede4dc394616e144d28612d",
      "4d84d12803084eaea6efe35b6effdf6b",
      "35b8fdaa6593485581316b6d387d3ac2",
      "4592fad2c6b944ac95d80ab4ceaba7cd",
      "22975517dd83411ba507a4224d83a929",
      "9339c21e45504986bf430499b8fbbca8"
     ]
    },
    "id": "MxUCCuq0hLYt",
    "outputId": "7076fd09-bce7-4ca9-8adf-162383dc26b4"
   },
   "outputs": [
    {
     "data": {
      "application/vnd.jupyter.widget-view+json": {
       "model_id": "5cbbc846b7bd449d933b68b22b49c106",
       "version_major": 2,
       "version_minor": 0
      },
      "text/plain": [
       "  0%|          | 0/872 [00:00<?, ?it/s]"
      ]
     },
     "metadata": {},
     "output_type": "display_data"
    },
    {
     "name": "stdout",
     "output_type": "stream",
     "text": [
      "(12, 31, 31) (12, 31, 31)\n"
     ]
    }
   ],
   "source": [
    "import src.model_attentions\n",
    "reload(src.model_attentions)\n",
    "\n",
    "raw_attentions, norms_list = src.model_attentions.extract_attentions(model, encoder_func, len(dataset), device, \n",
    "                                                                     config[\"DELETE_SEP\"])\n",
    "print(raw_attentions[-1].shape, norms_list[3][-1].shape)"
   ]
  },
  {
   "cell_type": "code",
   "execution_count": 7,
   "metadata": {},
   "outputs": [
    {
     "data": {
      "application/vnd.jupyter.widget-view+json": {
       "model_id": "0fb38b6869b34221a69c937690a19d40",
       "version_major": 2,
       "version_minor": 0
      },
      "text/plain": [
       "  0%|          | 0/872 [00:00<?, ?it/s]"
      ]
     },
     "metadata": {},
     "output_type": "display_data"
    },
    {
     "data": {
      "text/plain": [
       "dict_keys(['W-FixedRes', 'W-Res', 'N-FixedRes'])"
      ]
     },
     "execution_count": 7,
     "metadata": {},
     "output_type": "execute_result"
    }
   ],
   "source": [
    "import src.model_attentions\n",
    "reload(src.model_attentions)\n",
    "\n",
    "r_ratio_attentions = src.model_attentions.build_ratio_residual_attentions(raw_attentions, norms_list)\n",
    "r_ratio_attentions.keys()"
   ]
  },
  {
   "cell_type": "markdown",
   "metadata": {},
   "source": [
    "## Compute Attention Rollout/MaxFlow"
   ]
  },
  {
   "cell_type": "code",
   "execution_count": 8,
   "metadata": {
    "colab": {
     "base_uri": "https://localhost:8080/",
     "height": 49,
     "referenced_widgets": [
      "692f6219c44a4671be44fa63ab7f66bb",
      "b2789c1fd4c644e8beb418340d912cb4",
      "cd86681f9a814914a13d9d5c2204f8e9",
      "dfc507b035fb4abb8aec7657c5062e28",
      "062fc07f7b7544c29a66b4a27479c8a3",
      "ddde60d75e4e4f64af8cfceae8f001b0",
      "9bdb6ba6066e4c97a1a5dc2925c6971f",
      "fe48b10d483748628664e64821345fa2",
      "4376e6334a76494987ae85d972b1c0bc",
      "71e163c95217429d81808b11df592487",
      "00b68ecbf8894341b0d68c6382a3408e"
     ]
    },
    "id": "crdogougpJWD",
    "outputId": "d9df4194-6882-465a-aa3a-36c7ebbf672a",
    "scrolled": true
   },
   "outputs": [
    {
     "name": "stdout",
     "output_type": "stream",
     "text": [
      "<bound method AttentionRollout.compute_flows of <src.attention_rollout.AttentionRollout object at 0x00000284F11AC7B8>>\n"
     ]
    },
    {
     "data": {
      "application/vnd.jupyter.widget-view+json": {
       "model_id": "10c15a10223147da9343000b2c92c761",
       "version_major": 2,
       "version_minor": 0
      },
      "text/plain": [
       "W___________:   0%|          | 0/872 [00:00<?, ?it/s]"
      ]
     },
     "metadata": {},
     "output_type": "display_data"
    },
    {
     "data": {
      "application/vnd.jupyter.widget-view+json": {
       "model_id": "f2cc2214612d4b61ad836b4e0bb639cf",
       "version_major": 2,
       "version_minor": 0
      },
      "text/plain": [
       "W-FixedRes__:   0%|          | 0/872 [00:00<?, ?it/s]"
      ]
     },
     "metadata": {},
     "output_type": "display_data"
    },
    {
     "data": {
      "application/vnd.jupyter.widget-view+json": {
       "model_id": "173ddd6a95d2460fa41fa2714028fafd",
       "version_major": 2,
       "version_minor": 0
      },
      "text/plain": [
       "W-Res_______:   0%|          | 0/872 [00:00<?, ?it/s]"
      ]
     },
     "metadata": {},
     "output_type": "display_data"
    },
    {
     "data": {
      "application/vnd.jupyter.widget-view+json": {
       "model_id": "6712d1c787d74ba5987d0f57acb9337f",
       "version_major": 2,
       "version_minor": 0
      },
      "text/plain": [
       "N-FixedRes__:   0%|          | 0/872 [00:00<?, ?it/s]"
      ]
     },
     "metadata": {},
     "output_type": "display_data"
    },
    {
     "data": {
      "application/vnd.jupyter.widget-view+json": {
       "model_id": "ed3ff95b06224e3991235264d4bcbc4a",
       "version_major": 2,
       "version_minor": 0
      },
      "text/plain": [
       "N___________:   0%|          | 0/872 [00:00<?, ?it/s]"
      ]
     },
     "metadata": {},
     "output_type": "display_data"
    },
    {
     "data": {
      "application/vnd.jupyter.widget-view+json": {
       "model_id": "3b69773d25c7409eb7c410d13154bff8",
       "version_major": 2,
       "version_minor": 0
      },
      "text/plain": [
       "N-Res_______:   0%|          | 0/872 [00:00<?, ?it/s]"
      ]
     },
     "metadata": {},
     "output_type": "display_data"
    },
    {
     "data": {
      "application/vnd.jupyter.widget-view+json": {
       "model_id": "6ce8dc05a3974c72a29462053406ddfe",
       "version_major": 2,
       "version_minor": 0
      },
      "text/plain": [
       "N-ResLN_____:   0%|          | 0/872 [00:00<?, ?it/s]"
      ]
     },
     "metadata": {},
     "output_type": "display_data"
    },
    {
     "data": {
      "application/vnd.jupyter.widget-view+json": {
       "model_id": "ca1bc05cf125428e9a4d4c5acab2b517",
       "version_major": 2,
       "version_minor": 0
      },
      "text/plain": [
       "N-Enc_______:   0%|          | 0/872 [00:00<?, ?it/s]"
      ]
     },
     "metadata": {},
     "output_type": "display_data"
    }
   ],
   "source": [
    "import src.attention_flow_abstract\n",
    "reload(src.attention_flow_abstract)\n",
    "import src.attention_rollout\n",
    "reload(src.attention_rollout)\n",
    "import src.attention_max_flow\n",
    "reload(src.attention_max_flow)\n",
    "\n",
    "flow_class = src.attention_rollout.AttentionRollout() if config[\"FLOW_METHOD\"] == FlowMethods.ROLLOUT else src.attention_max_flow.AttentionMaxFlow()\n",
    "flow_function = flow_class.compute_flows\n",
    "print(flow_function)\n",
    "\n",
    "attention_flows = dict()\n",
    "\n",
    "# a = flow_function(raw_attentions[:2], add_fixed_residual=True, desc=\"raw\".ljust(11, '_'), num_cpus=NUM_CPUS)\n",
    "\n",
    "local_attentions = {\"W\": raw_attentions}\n",
    "for key, attention_mat in r_ratio_attentions.items():\n",
    "    local_attentions[key] = attention_mat\n",
    "for key, value in ATTENTION_NORM_TYPES.items():\n",
    "    local_attentions[key] = norms_list[value]\n",
    "\n",
    "for key, local_attention in local_attentions.items():\n",
    "    attention_flows[key] = flow_function(local_attention, \n",
    "                                         desc=key.ljust(12, '_'),\n",
    "                                         output_hidden_states = config[\"OUTPUT_HIDDEN_STATES\"],\n",
    "                                         num_cpus=config[\"NUM_CPUS\"])    \n",
    "\n",
    "\n",
    "# file_name = f\"{DATASET}_{MODEL_CHECKPOINT.split('/')[-1]}_{FLOW_METHOD}.pickle_lzma\"\n",
    "# with lzma.open(file_name, 'wb') as f:\n",
    "#     print(\"Saving...\")\n",
    "#     pickle.dump(attention_flows, f, protocol=pickle.HIGHEST_PROTOCOL)\n",
    "#     print(f\"Saved attentions to [{file_name}]\")\n",
    "    \n",
    "# print(attention_flows.keys(), attention_flows[\"N\"][-1].shape)"
   ]
  },
  {
   "cell_type": "code",
   "execution_count": 9,
   "metadata": {},
   "outputs": [
    {
     "data": {
      "text/plain": [
       "dict_keys(['W', 'W-FixedRes', 'W-Res', 'N-FixedRes', 'N', 'N-Res', 'N-ResLN', 'N-Enc'])"
      ]
     },
     "execution_count": 9,
     "metadata": {},
     "output_type": "execute_result"
    }
   ],
   "source": [
    "local_attentions.keys()"
   ]
  },
  {
   "cell_type": "markdown",
   "metadata": {},
   "source": [
    "## Compute Metrics (Compare to saliency)"
   ]
  },
  {
   "cell_type": "markdown",
   "metadata": {},
   "source": [
    "### Flow Correlation"
   ]
  },
  {
   "cell_type": "code",
   "execution_count": 10,
   "metadata": {
    "id": "fB0cUDrziaYx",
    "scrolled": true
   },
   "outputs": [
    {
     "name": "stderr",
     "output_type": "stream",
     "text": [
      "C:\\Users\\Mohsen\\Anaconda3\\lib\\site-packages\\statsmodels\\tools\\_testing.py:19: FutureWarning: pandas.util.testing is deprecated. Use the functions in the public API at pandas.testing instead.\n",
      "  import pandas.util.testing as tm\n"
     ]
    },
    {
     "data": {
      "application/vnd.jupyter.widget-view+json": {
       "model_id": "f172417da39f45af868dffa8cd0c4515",
       "version_major": 2,
       "version_minor": 0
      },
      "text/plain": [
       "W___________:   0%|          | 0/872 [00:00<?, ?it/s]"
      ]
     },
     "metadata": {},
     "output_type": "display_data"
    },
    {
     "data": {
      "application/vnd.jupyter.widget-view+json": {
       "model_id": "847612ce5d2b4c91ab79934e6a09187d",
       "version_major": 2,
       "version_minor": 0
      },
      "text/plain": [
       "W-FixedRes__:   0%|          | 0/872 [00:00<?, ?it/s]"
      ]
     },
     "metadata": {},
     "output_type": "display_data"
    },
    {
     "data": {
      "application/vnd.jupyter.widget-view+json": {
       "model_id": "ff331bc2563c4559a1ca0c24f5105aab",
       "version_major": 2,
       "version_minor": 0
      },
      "text/plain": [
       "W-Res_______:   0%|          | 0/872 [00:00<?, ?it/s]"
      ]
     },
     "metadata": {},
     "output_type": "display_data"
    },
    {
     "data": {
      "application/vnd.jupyter.widget-view+json": {
       "model_id": "cd97912dc2274b42a464b57c23ab5af1",
       "version_major": 2,
       "version_minor": 0
      },
      "text/plain": [
       "N-FixedRes__:   0%|          | 0/872 [00:00<?, ?it/s]"
      ]
     },
     "metadata": {},
     "output_type": "display_data"
    },
    {
     "data": {
      "application/vnd.jupyter.widget-view+json": {
       "model_id": "bda43c925b764d998e3ba4e9c4f91af7",
       "version_major": 2,
       "version_minor": 0
      },
      "text/plain": [
       "N___________:   0%|          | 0/872 [00:00<?, ?it/s]"
      ]
     },
     "metadata": {},
     "output_type": "display_data"
    },
    {
     "data": {
      "application/vnd.jupyter.widget-view+json": {
       "model_id": "6582125e1fd240dbbaec4fc01baccef9",
       "version_major": 2,
       "version_minor": 0
      },
      "text/plain": [
       "N-Res_______:   0%|          | 0/872 [00:00<?, ?it/s]"
      ]
     },
     "metadata": {},
     "output_type": "display_data"
    },
    {
     "data": {
      "application/vnd.jupyter.widget-view+json": {
       "model_id": "10a1eaea06744a5cae09c357f45381c0",
       "version_major": 2,
       "version_minor": 0
      },
      "text/plain": [
       "N-ResLN_____:   0%|          | 0/872 [00:00<?, ?it/s]"
      ]
     },
     "metadata": {},
     "output_type": "display_data"
    },
    {
     "data": {
      "application/vnd.jupyter.widget-view+json": {
       "model_id": "b63b9a411a5b4beaad01d1ba069d2d8c",
       "version_major": 2,
       "version_minor": 0
      },
      "text/plain": [
       "N-Enc_______:   0%|          | 0/872 [00:00<?, ?it/s]"
      ]
     },
     "metadata": {},
     "output_type": "display_data"
    },
    {
     "name": "stdout",
     "output_type": "stream",
     "text": [
      "W-L1                    -0.52 ± 0.17\n",
      "W-L2                    -0.18 ± 0.25\n",
      "W-L3                    -0.11 ± 0.26\n",
      "W-L4                    -0.09 ± 0.26\n",
      "W-L5                    -0.10 ± 0.26\n",
      "W-L6                    -0.11 ± 0.26\n",
      "W-L7                    -0.11 ± 0.26\n",
      "W-L8                    -0.11 ± 0.26\n",
      "W-L9                    -0.11 ± 0.26\n",
      "W-L10                   -0.11 ± 0.26\n",
      "W-L11                   -0.11 ± 0.26\n",
      "W-L12                   -0.11 ± 0.26\n",
      "W-FixedRes-L1           -0.52 ± 0.17\n",
      "W-FixedRes-L2           -0.44 ± 0.20\n",
      "W-FixedRes-L3           -0.36 ± 0.22\n",
      "W-FixedRes-L4           -0.28 ± 0.24\n",
      "W-FixedRes-L5           -0.24 ± 0.25\n",
      "W-FixedRes-L6           -0.25 ± 0.25\n",
      "W-FixedRes-L7           -0.24 ± 0.25\n",
      "W-FixedRes-L8           -0.25 ± 0.25\n",
      "W-FixedRes-L9           -0.24 ± 0.25\n",
      "W-FixedRes-L10          -0.24 ± 0.25\n",
      "W-FixedRes-L11          -0.24 ± 0.26\n",
      "W-FixedRes-L12          -0.24 ± 0.26\n",
      "W-Res-L1                -0.52 ± 0.17\n",
      "W-Res-L2                -0.48 ± 0.19\n",
      "W-Res-L3                -0.41 ± 0.21\n",
      "W-Res-L4                -0.31 ± 0.23\n",
      "W-Res-L5                -0.25 ± 0.24\n",
      "W-Res-L6                -0.23 ± 0.25\n",
      "W-Res-L7                -0.17 ± 0.26\n",
      "W-Res-L8                -0.14 ± 0.26\n",
      "W-Res-L9                -0.04 ± 0.27\n",
      "W-Res-L10               0.04 ± 0.27\n",
      "W-Res-L11               0.12 ± 0.26\n",
      "W-Res-L12               0.19 ± 0.26\n",
      "N-FixedRes-L1           -0.48 ± 0.18\n",
      "N-FixedRes-L2           -0.30 ± 0.23\n",
      "N-FixedRes-L3           -0.05 ± 0.25\n",
      "N-FixedRes-L4           0.17 ± 0.24\n",
      "N-FixedRes-L5           0.28 ± 0.24\n",
      "N-FixedRes-L6           0.34 ± 0.24\n",
      "N-FixedRes-L7           0.39 ± 0.23\n",
      "N-FixedRes-L8           0.41 ± 0.23\n",
      "N-FixedRes-L9           0.45 ± 0.22\n",
      "N-FixedRes-L10          0.46 ± 0.21\n",
      "N-FixedRes-L11          0.47 ± 0.21\n",
      "N-FixedRes-L12          0.48 ± 0.21\n",
      "N-L1                    -0.50 ± 0.18\n",
      "N-L2                    0.19 ± 0.26\n",
      "N-L3                    0.38 ± 0.22\n",
      "N-L4                    0.43 ± 0.20\n",
      "N-L5                    0.43 ± 0.20\n",
      "N-L6                    0.44 ± 0.20\n",
      "N-L7                    0.44 ± 0.20\n",
      "N-L8                    0.44 ± 0.20\n",
      "N-L9                    0.44 ± 0.20\n",
      "N-L10                   0.44 ± 0.20\n",
      "N-L11                   0.44 ± 0.20\n",
      "N-L12                   0.44 ± 0.20\n",
      "N-Res-L1                -0.48 ± 0.18\n",
      "N-Res-L2                -0.17 ± 0.25\n",
      "N-Res-L3                0.23 ± 0.24\n",
      "N-Res-L4                0.60 ± 0.16\n",
      "N-Res-L5                0.66 ± 0.16\n",
      "N-Res-L6                0.70 ± 0.14\n",
      "N-Res-L7                0.71 ± 0.14\n",
      "N-Res-L8                0.72 ± 0.14\n",
      "N-Res-L9                0.73 ± 0.14\n",
      "N-Res-L10               0.73 ± 0.13\n",
      "N-Res-L11               0.73 ± 0.13\n",
      "N-Res-L12               0.73 ± 0.13\n",
      "N-ResLN-L1              -0.48 ± 0.18\n",
      "N-ResLN-L2              -0.41 ± 0.20\n",
      "N-ResLN-L3              -0.36 ± 0.22\n",
      "N-ResLN-L4              -0.30 ± 0.23\n",
      "N-ResLN-L5              -0.27 ± 0.23\n",
      "N-ResLN-L6              -0.25 ± 0.24\n",
      "N-ResLN-L7              -0.22 ± 0.25\n",
      "N-ResLN-L8              -0.21 ± 0.25\n",
      "N-ResLN-L9              -0.21 ± 0.26\n",
      "N-ResLN-L10             -0.21 ± 0.26\n",
      "N-ResLN-L11             -0.21 ± 0.26\n",
      "N-ResLN-L12             -0.21 ± 0.26\n",
      "N-Enc-L1                -0.47 ± 0.18\n",
      "N-Enc-L2                -0.05 ± 0.25\n",
      "N-Enc-L3                0.45 ± 0.20\n",
      "N-Enc-L4                0.68 ± 0.15\n",
      "N-Enc-L5                0.72 ± 0.14\n",
      "N-Enc-L6                0.74 ± 0.14\n",
      "N-Enc-L7                0.76 ± 0.13\n",
      "N-Enc-L8                0.77 ± 0.12\n",
      "N-Enc-L9                0.77 ± 0.12\n",
      "N-Enc-L10               0.78 ± 0.12\n",
      "N-Enc-L11               0.78 ± 0.12\n",
      "N-Enc-L12               0.77 ± 0.12\n"
     ]
    }
   ],
   "source": [
    "import matplotlib.pyplot as plt\n",
    "from matplotlib import cm\n",
    "import seaborn as sns\n",
    "import src.metrics\n",
    "reload(src.metrics)\n",
    "\n",
    "# spearmans_raw_flow = src.metrics.compute_spearman_correlation(raw_attentions_rollouts, \n",
    "#                                                          SALIENCY_BLANK_OUT_PATH)\n",
    "\n",
    "spearmans = dict()  # spearmans[key]: (#batch, #layers, spearman)\n",
    "for key in attention_flows.keys():\n",
    "    spearmans[key] = src.metrics.compute_spearman_correlation(attention_flows[key], \n",
    "                                                              config[\"SALIENCY_BLANK_OUT_PATH\"],\n",
    "                                                              aggregation=\"CLS\",\n",
    "                                                              desc=key.ljust(12, '_'),\n",
    "                                                              max_length=config[\"SALS_MAX_LENGTH\"])\n",
    "\n",
    "\n",
    "# PRINT\n",
    "for key in spearmans.keys():\n",
    "    spearman = np.array(spearmans[key])\n",
    "    max_layer = np.argmax(np.mean(spearman, axis=0))\n",
    "#     print(f\"Max Layer: {max_layer+1}\", f\"{key}\", f\"{np.mean(spearman[:, max_layer]):.2f}\", f\"± {np.std(spearman[:, max_layer]):.2f}\")\n",
    "    layers = spearmans[key][0].shape[0]\n",
    "    for layer in range(layers):\n",
    "        spearman = np.array(spearmans[key])[:, layer]\n",
    "        layer_text = f\"-L{layer+1}\" if layers > 1 else \"\"\n",
    "        print(f\"{key}{layer_text}\".ljust(23), f\"{np.mean(spearman):.2f}\", f\"± {np.std(spearman):.2f}\")"
   ]
  },
  {
   "cell_type": "code",
   "execution_count": 11,
   "metadata": {},
   "outputs": [
    {
     "data": {
      "image/png": "[encoded data removed]",
      "text/plain": [
       "<Figure size 432x288 with 1 Axes>"
      ]
     },
     "metadata": {
      "needs_background": "light"
     },
     "output_type": "display_data"
    }
   ],
   "source": [
    "# PLOT\n",
    "fig = plt.figure(figsize=(6, 4))\n",
    "cmap = plt.get_cmap(\"tab10\")\n",
    "markers = ['D', 'o', '^', '*', 's', '+', 'x', '.', 'X']\n",
    "c = 0\n",
    "for key in spearmans.keys():\n",
    "    if key in [\"N-ResLN\", \"W-FixedRes\", \"N-FixedRes\", \"Uniform-Res\"]:\n",
    "        continue\n",
    "    layers = spearmans[key][0].shape[0]\n",
    "    spearman = np.array(spearmans[key])\n",
    "#     print(np.sqrt(len(spearman)))\n",
    "    with plt.style.context(\"ggplot\"):\n",
    "        x = range(1, layers + 1)\n",
    "        plt.plot(x, np.mean(spearman, axis=0), markers[c], label=key, color=cmap(c))\n",
    "        plt.plot(x, np.mean(spearman, axis=0), color=cmap(c))\n",
    "        plt.fill_between(x, \n",
    "                         np.mean(spearman, axis=0) - np.std(spearman, axis=0) * 2.575 / np.sqrt(len(spearman)), \n",
    "                         np.mean(spearman, axis=0) + np.std(spearman, axis=0) * 2.575 / np.sqrt(len(spearman)),\n",
    "                         alpha=0.2, color=cmap(c))\n",
    "        plt.xticks(x)\n",
    "        \n",
    "    c += 1\n",
    "plt.legend(loc=\"upper left\")\n",
    "dataset_name_map = {\"sst2\": \"SST2\", \"mnli\": \"MNLI\", \"hatexplain\": \"HATEXPLAIN\"}\n",
    "plt.title(f\"Aggregated Attribution Spearman Rank Correlation on {dataset_name_map[config['DATASET']]} Dataset\", fontsize=11)\n",
    "plt.ylabel(\"Spearman Rank Correlation\")\n",
    "plt.xlabel(\"Layer\")\n",
    "fig.tight_layout()\n",
    "# filename = f'figures/{title}_{model}.pdf' if show_hist else f'figures/compact_{title}_{model}.pdf'\n",
    "file_name = f\"{config['DATASET']}_{config['MODEL_CHECKPOINT'].split('/')[-1]}_{config['FLOW_METHOD']}_spearman.pdf\"\n",
    "fig.savefig(file_name, dpi=50)"
   ]
  },
  {
   "cell_type": "markdown",
   "metadata": {},
   "source": [
    "### Single Layers Correlation"
   ]
  },
  {
   "cell_type": "code",
   "execution_count": null,
   "metadata": {
    "scrolled": true
   },
   "outputs": [],
   "source": [
    "import src.metrics\n",
    "reload(src.metrics)\n",
    "\n",
    "spearmans_attentions = dict()\n",
    "for key, value in local_attentions.items():\n",
    "    spearmans_attentions[key] = []\n",
    "\n",
    "for layer in range(12):\n",
    "    for key, value in local_attentions.items():\n",
    "        spearmans_attentions[key].append(src.metrics.compute_spearman_correlation([n[layer] for n in local_attentions[key]], \n",
    "                                                                                  config[\"SALIENCY_BLANK_OUT_PATH\"],\n",
    "                                                                                  desc=f\"{key} {layer}\".ljust(14, '_'),\n",
    "                                                                                  max_length=config[\"SALS_MAX_LENGTH\"]))\n",
    "#PRINT\n",
    "for key, value in spearmans_attentions.items():\n",
    "    spearmans = np.array(spearmans_attentions[key])\n",
    "    max_layer = np.argmax(np.mean(spearmans_attentions[key], axis=1))\n",
    "    print(f\"Max Layer: {max_layer+1}\", f\"{key}\", f\"{np.mean(spearmans_attentions[key][max_layer]):.2f}\", f\"± {np.std(spearmans_attentions[key][max_layer]):.2f}\")\n",
    "    for layer in range(12):\n",
    "        print(f\"{layer+1} {key}\".ljust(14), \n",
    "              f\"{np.mean(spearmans_attentions[key][layer]):.2f}\",\n",
    "              f\"± {np.std(spearmans_attentions[key][layer]):.2f}\")\n",
    "\n",
    "# PLOT\n",
    "plt.figure(figsize=(16, 6))\n",
    "cmap = plt.get_cmap(\"tab10\")\n",
    "markers = ['D', 'o', '^', '*', 's', '+', 'x', '.', 'X']\n",
    "c = 0\n",
    "for key, value in spearmans_attentions.items():\n",
    "    y_mean = []\n",
    "    y_std = []\n",
    "    for layer in range(12):\n",
    "        y_mean.append(np.mean(spearmans_attentions[key][layer]))\n",
    "        y_std.append(np.std(spearmans_attentions[key][layer]))\n",
    "    y_mean = np.array(y_mean)\n",
    "    y_std = np.array(y_std)\n",
    "    plt.plot(range(12), y_mean, markers[c], label=key, color=cmap(c))\n",
    "    plt.plot(range(12), y_mean, color=cmap(c))\n",
    "#     plt.fill_between(range(12), \n",
    "#                      y_mean - y_std, \n",
    "#                      y_mean + y_std,\n",
    "#                      alpha=0.2, color=cmap(c))\n",
    "    c += 1\n",
    "plt.legend(loc=\"upper left\")"
   ]
  },
  {
   "cell_type": "markdown",
   "metadata": {},
   "source": [
    "## Visualization"
   ]
  },
  {
   "cell_type": "code",
   "execution_count": 12,
   "metadata": {},
   "outputs": [],
   "source": [
    "import seaborn as sns\n",
    "import pandas as pd\n",
    "import numpy as np\n",
    "import matplotlib.pyplot as plt\n",
    "import matplotlib.gridspec as gridspec\n",
    "\n",
    "def plot_heatmap(norm, tokenized_text, title=\"\"):\n",
    "    df = pd.DataFrame(norm, columns=tokenized_text, index=tokenized_text)\n",
    "    sns.heatmap(df,cmap=\"Reds\",square=True)\n",
    "    plt.title(title)\n",
    "    plt.gcf().subplots_adjust(bottom=0.2)"
   ]
  },
  {
   "cell_type": "markdown",
   "metadata": {},
   "source": [
    "### Attention Flow"
   ]
  },
  {
   "cell_type": "code",
   "execution_count": 50,
   "metadata": {
    "scrolled": false
   },
   "outputs": [
    {
     "name": "stdout",
     "output_type": "stream",
     "text": [
      "idx = 4\n"
     ]
    },
    {
     "data": {
      "image/png": "[encoded data removed]",
      "text/plain": [
       "<Figure size 504x504 with 2 Axes>"
      ]
     },
     "metadata": {
      "needs_background": "light"
     },
     "output_type": "display_data"
    },
    {
     "name": "stdout",
     "output_type": "stream",
     "text": [
      "idx = 29\n"
     ]
    },
    {
     "data": {
      "image/png": "[encoded data removed]",
      "text/plain": [
       "<Figure size 504x504 with 2 Axes>"
      ]
     },
     "metadata": {
      "needs_background": "light"
     },
     "output_type": "display_data"
    },
    {
     "name": "stdout",
     "output_type": "stream",
     "text": [
      "idx = 167\n"
     ]
    },
    {
     "data": {
      "image/png": "[encoded data removed]",
      "text/plain": [
       "<Figure size 504x504 with 2 Axes>"
      ]
     },
     "metadata": {
      "needs_background": "light"
     },
     "output_type": "display_data"
    },
    {
     "name": "stdout",
     "output_type": "stream",
     "text": [
      "idx = 300\n"
     ]
    },
    {
     "data": {
      "image/png": "[encoded data removed]",
      "text/plain": [
       "<Figure size 504x504 with 2 Axes>"
      ]
     },
     "metadata": {
      "needs_background": "light"
     },
     "output_type": "display_data"
    },
    {
     "name": "stdout",
     "output_type": "stream",
     "text": [
      "idx = 396\n"
     ]
    },
    {
     "data": {
      "image/png": "[encoded data removed]",
      "text/plain": [
       "<Figure size 504x504 with 2 Axes>"
      ]
     },
     "metadata": {
      "needs_background": "light"
     },
     "output_type": "display_data"
    },
    {
     "name": "stdout",
     "output_type": "stream",
     "text": [
      "idx = 474\n"
     ]
    },
    {
     "data": {
      "image/png": "[encoded data removed]",
      "text/plain": [
       "<Figure size 504x504 with 2 Axes>"
      ]
     },
     "metadata": {
      "needs_background": "light"
     },
     "output_type": "display_data"
    },
    {
     "name": "stdout",
     "output_type": "stream",
     "text": [
      "idx = 602\n"
     ]
    },
    {
     "data": {
      "image/png": "[encoded data removed]",
      "text/plain": [
       "<Figure size 504x504 with 2 Axes>"
      ]
     },
     "metadata": {
      "needs_background": "light"
     },
     "output_type": "display_data"
    },
    {
     "name": "stdout",
     "output_type": "stream",
     "text": [
      "idx = 699\n"
     ]
    },
    {
     "data": {
      "image/png": "[encoded data removed]",
      "text/plain": [
       "<Figure size 504x504 with 2 Axes>"
      ]
     },
     "metadata": {
      "needs_background": "light"
     },
     "output_type": "display_data"
    },
    {
     "name": "stdout",
     "output_type": "stream",
     "text": [
      "idx = 731\n"
     ]
    },
    {
     "data": {
      "image/png": "[encoded data removed]",
      "text/plain": [
       "<Figure size 504x504 with 2 Axes>"
      ]
     },
     "metadata": {
      "needs_background": "light"
     },
     "output_type": "display_data"
    },
    {
     "name": "stdout",
     "output_type": "stream",
     "text": [
      "idx = 738\n"
     ]
    },
    {
     "data": {
      "image/png": "[encoded data removed]",
      "text/plain": [
       "<Figure size 504x504 with 2 Axes>"
      ]
     },
     "metadata": {
      "needs_background": "light"
     },
     "output_type": "display_data"
    }
   ],
   "source": [
    "### 12 Layers in One (Just CLS)\n",
    "import matplotlib.backends.backend_pdf\n",
    "\n",
    "def plot_flow_heatmaps_cls(idx, specific_method=None):\n",
    "    encoded = encoder_func(idx)\n",
    "    tokenized_text = tokenizer.convert_ids_to_tokens(encoded[\"input_ids\"][0])\n",
    "    if specific_method is None:\n",
    "        plt.figure(figsize=(22, 17))\n",
    "    else:\n",
    "        plt.figure(figsize=(7, 7))  # (5,7) for top of paper\n",
    "    c = 1\n",
    "    for key in attention_flows.keys():\n",
    "        # N-Enc, N-Res\n",
    "        if specific_method is not None and key != specific_method:\n",
    "            continue\n",
    "        if specific_method is None:\n",
    "            plt.subplot(2, 4, c)\n",
    "            c += 1\n",
    "        else:\n",
    "            plt.subplot(1, 1, c)\n",
    "        norm_cls = attention_flows[key][idx][:, 0, :]\n",
    "        norm_cls = np.flip(norm_cls, axis=0)\n",
    "        row_sums = norm_cls.max(axis=1)\n",
    "        norm_cls = norm_cls / row_sums[:, np.newaxis]\n",
    "        \n",
    "        df = pd.DataFrame(norm_cls, columns=tokenized_text, index=range(12, 0, -1))\n",
    "        ax = sns.heatmap(df,cmap=\"Reds\",square=True)\n",
    "        bottom, top = ax.get_ylim()\n",
    "        ax.set_ylim(bottom + 0.5, top - 0.5)\n",
    "#         plt.title(key, fontsize=16)\n",
    "        plt.ylabel(\"Layer\", fontsize=16)\n",
    "        plt.xticks(rotation = 90, fontsize=16)\n",
    "        plt.yticks(fontsize=13)\n",
    "        plt.gcf().subplots_adjust(bottom=0.2)\n",
    "        \n",
    "# 320, 493, 599, 746\n",
    "# len14: 18, \n",
    "# len13: 4, 29, 396, 738\n",
    "# idx = 599\n",
    "# pdf = matplotlib.backends.backend_pdf.PdfPages(f\"{config['DATASET']}_{idx}_rollout_cls.pdf\")\n",
    "# plot_flow_heatmaps_cls(idx, specific_method=\"N-Enc\")\n",
    "# # plot_flow_heatmaps_cls(idx, specific_method=None)\n",
    "# # fig.tight_layout()\n",
    "# plt.savefig(pdf, format='pdf')\n",
    "# pdf.close()\n",
    "\n",
    "\n",
    "for i in range(872):\n",
    "    test_idx = i\n",
    "    encoded = encoder_func(test_idx)\n",
    "    tokenized_text = tokenizer.convert_ids_to_tokens(encoded[\"input_ids\"][0])\n",
    "    if 12 < len(tokenized_text) < 14 and \"#\" not in \"\".join(tokenized_text):\n",
    "        print(\"idx =\", i)\n",
    "        plot_flow_heatmaps_cls(test_idx, specific_method=\"N-Enc\")\n",
    "        plt.show()"
   ]
  },
  {
   "cell_type": "code",
   "execution_count": null,
   "metadata": {
    "id": "oeHyiUtkzUeH",
    "scrolled": false
   },
   "outputs": [],
   "source": [
    "import matplotlib.backends.backend_pdf\n",
    "\n",
    "def plot_flow_heatmaps(idx, layer=-1):\n",
    "    encoded = encoder_func(idx)\n",
    "    tokenized_text = tokenizer.convert_ids_to_tokens(encoded[\"input_ids\"][0])\n",
    "    plt.figure(figsize=(22, 13))\n",
    "    c = 1\n",
    "    for key in attention_flows.keys():\n",
    "        plt.subplot(2, 4, c)\n",
    "        c += 1\n",
    "        norm = attention_flows[key][idx][layer] / np.max(attention_flows[key][idx][layer])\n",
    "        plot_heatmap(norm, tokenized_text, key)\n",
    "        plt.xticks(rotation = 90, fontsize=16)\n",
    "        plt.title(key, fontsize=16)\n",
    "        plt.yticks(rotation = 0, fontsize=16)\n",
    "        plt.yticks(fontsize=12)\n",
    "        \n",
    "\n",
    "# for i in range(800):\n",
    "#     test_idx = i\n",
    "#     encoded = encoder_func(test_idx)\n",
    "#     tokenized_text = tokenizer.convert_ids_to_tokens(encoded[\"input_ids\"][0])\n",
    "#     if 2 < len(tokenized_text) < 5:\n",
    "#         print(\"idx =\", i)\n",
    "#         plot_flow_heatmaps(test_idx)\n",
    "#         plt.show()\n",
    "\n",
    "# pdf = matplotlib.backends.backend_pdf.PdfPages(f\"{config['DATASET']}_{idx}_rollout12_tokens.pdf\")\n",
    "# plot_flow_heatmaps(idx=112)\n",
    "# fig.tight_layout()\n",
    "# plt.savefig(pdf, format='pdf')\n",
    "# pdf.close()\n",
    "\n",
    "pdf = matplotlib.backends.backend_pdf.PdfPages(f\"{config['DATASET']}_flow_aggregate_layers.pdf\")\n",
    "for layer in range(len(attention_flows[\"W\"][0])):\n",
    "    plot_flow_heatmaps(idx=32, layer=layer)\n",
    "    plt.suptitle(f\"Layer {layer}\", fontsize=12)\n",
    "    plt.savefig(pdf, format='pdf')\n",
    "pdf.close()"
   ]
  },
  {
   "cell_type": "code",
   "execution_count": null,
   "metadata": {},
   "outputs": [],
   "source": [
    "# attention_flows[\"attnresln_n\"][0][-1]/1e19"
   ]
  },
  {
   "cell_type": "markdown",
   "metadata": {},
   "source": [
    "### Attention in single layers (w/o flow)"
   ]
  },
  {
   "cell_type": "code",
   "execution_count": null,
   "metadata": {
    "colab": {
     "base_uri": "https://localhost:8080/",
     "height": 282
    },
    "id": "tYZnfOGovfiD",
    "outputId": "971bf810-79fc-43b6-f69e-08823f73d11d",
    "scrolled": false
   },
   "outputs": [],
   "source": [
    "import matplotlib.backends.backend_pdf\n",
    "\n",
    "def plot_layers_heatmap(idx, layer):\n",
    "    encoded = encoder_func(idx)\n",
    "    tokenized_text = tokenizer.convert_ids_to_tokens(encoded[\"input_ids\"][0])\n",
    "    plt.figure(figsize=(25, 6))\n",
    "    # Plot Raw Attention\n",
    "    plt.subplot(1, 5, 1)\n",
    "    norm = raw_attentions[idx][layer]\n",
    "    plot_heatmap(norm, tokenized_text, \"Attn-W\")\n",
    "    # Plot Norm Attentions\n",
    "    c = 2\n",
    "    for key, value in ATTENTION_NORM_TYPES.items():\n",
    "        plt.subplot(1, 5, c)\n",
    "        c += 1\n",
    "        norm = norms_list[value][idx][layer]\n",
    "        plot_heatmap(norm, tokenized_text, key)\n",
    "\n",
    "test_idx = 32\n",
    "pdf = matplotlib.backends.backend_pdf.PdfPages(\"layers.pdf\")\n",
    "for layer in range(12):\n",
    "    plot_layers_heatmap(test_idx, layer)\n",
    "    plt.suptitle(f\"Layer {layer}\", fontsize=12)\n",
    "    plt.savefig(pdf, format='pdf')\n",
    "pdf.close()"
   ]
  },
  {
   "cell_type": "markdown",
   "metadata": {},
   "source": [
    "# Temp"
   ]
  },
  {
   "cell_type": "code",
   "execution_count": null,
   "metadata": {},
   "outputs": [],
   "source": [
    "electra = np.load(\"../src/gradients/electra_base_sst2_val_sals.npy\")\n",
    "bert = np.load(\"../src/gradients/sst2_val_sals_normbased_selfFT.npy\")\n",
    "electra = electra[:, :64]"
   ]
  },
  {
   "cell_type": "code",
   "execution_count": null,
   "metadata": {},
   "outputs": [],
   "source": [
    "electra.shape, bert.shape"
   ]
  },
  {
   "cell_type": "code",
   "execution_count": null,
   "metadata": {},
   "outputs": [],
   "source": [
    "from scipy import stats\n",
    "\n",
    "corrs = []\n",
    "for i in range(872):\n",
    "    corrs.append(stats.spearmanr(electra[0], bert[0]).correlation)\n",
    "np.mean(corrs)"
   ]
  },
  {
   "cell_type": "code",
   "execution_count": null,
   "metadata": {},
   "outputs": [],
   "source": []
  }
 ],
 "metadata": {
  "accelerator": "GPU",
  "colab": {
   "name": "AttentionRolloutCheck.ipynb",
   "provenance": []
  },
  "kernelspec": {
   "display_name": "Python 3",
   "language": "python",
   "name": "python3"
  },
  "language_info": {
   "codemirror_mode": {
    "name": "ipython",
    "version": 3
   },
   "file_extension": ".py",
   "mimetype": "text/x-python",
   "name": "python",
   "nbconvert_exporter": "python",
   "pygments_lexer": "ipython3",
   "version": "3.7.3"
  },
  "pycharm": {
   "stem_cell": {
    "cell_type": "raw",
    "metadata": {
     "collapsed": false
    },
    "source": []
   }
  },
  "widgets": {
   "application/vnd.jupyter.widget-state+json": {
    "00b68ecbf8894341b0d68c6382a3408e": {
     "model_module": "@jupyter-widgets/base",
     "model_module_version": "1.2.0",
     "model_name": "LayoutModel",
     "state": {
      "_model_module": "@jupyter-widgets/base",
      "_model_module_version": "1.2.0",
      "_model_name": "LayoutModel",
      "_view_count": null,
      "_view_module": "@jupyter-widgets/base",
      "_view_module_version": "1.2.0",
      "_view_name": "LayoutView",
      "align_content": null,
      "align_items": null,
      "align_self": null,
      "border": null,
      "bottom": null,
      "display": null,
      "flex": null,
      "flex_flow": null,
      "grid_area": null,
      "grid_auto_columns": null,
      "grid_auto_flow": null,
      "grid_auto_rows": null,
      "grid_column": null,
      "grid_gap": null,
      "grid_row": null,
      "grid_template_areas": null,
      "grid_template_columns": null,
      "grid_template_rows": null,
      "height": null,
      "justify_content": null,
      "justify_items": null,
      "left": null,
      "margin": null,
      "max_height": null,
      "max_width": null,
      "min_height": null,
      "min_width": null,
      "object_fit": null,
      "object_position": null,
      "order": null,
      "overflow": null,
      "overflow_x": null,
      "overflow_y": null,
      "padding": null,
      "right": null,
      "top": null,
      "visibility": null,
      "width": null
     }
    },
    "062fc07f7b7544c29a66b4a27479c8a3": {
     "model_module": "@jupyter-widgets/controls",
     "model_module_version": "1.5.0",
     "model_name": "HTMLModel",
     "state": {
      "_dom_classes": [],
      "_model_module": "@jupyter-widgets/controls",
      "_model_module_version": "1.5.0",
      "_model_name": "HTMLModel",
      "_view_count": null,
      "_view_module": "@jupyter-widgets/controls",
      "_view_module_version": "1.5.0",
      "_view_name": "HTMLView",
      "description": "",
      "description_tooltip": null,
      "layout": "IPY_MODEL_00b68ecbf8894341b0d68c6382a3408e",
      "placeholder": "​",
      "style": "IPY_MODEL_71e163c95217429d81808b11df592487",
      "value": " 256/256 [00:00&lt;00:00, 1285.46it/s]"
     }
    },
    "13c3f45eb5a447dda29d89aa4eac1563": {
     "model_module": "@jupyter-widgets/base",
     "model_module_version": "1.2.0",
     "model_name": "LayoutModel",
     "state": {
      "_model_module": "@jupyter-widgets/base",
      "_model_module_version": "1.2.0",
      "_model_name": "LayoutModel",
      "_view_count": null,
      "_view_module": "@jupyter-widgets/base",
      "_view_module_version": "1.2.0",
      "_view_name": "LayoutView",
      "align_content": null,
      "align_items": null,
      "align_self": null,
      "border": null,
      "bottom": null,
      "display": null,
      "flex": null,
      "flex_flow": null,
      "grid_area": null,
      "grid_auto_columns": null,
      "grid_auto_flow": null,
      "grid_auto_rows": null,
      "grid_column": null,
      "grid_gap": null,
      "grid_row": null,
      "grid_template_areas": null,
      "grid_template_columns": null,
      "grid_template_rows": null,
      "height": null,
      "justify_content": null,
      "justify_items": null,
      "left": null,
      "margin": null,
      "max_height": null,
      "max_width": null,
      "min_height": null,
      "min_width": null,
      "object_fit": null,
      "object_position": null,
      "order": null,
      "overflow": null,
      "overflow_x": null,
      "overflow_y": null,
      "padding": null,
      "right": null,
      "top": null,
      "visibility": null,
      "width": null
     }
    },
    "1ac063b4e5c84d86bdce7beea90bfbaa": {
     "model_module": "@jupyter-widgets/controls",
     "model_module_version": "1.5.0",
     "model_name": "DescriptionStyleModel",
     "state": {
      "_model_module": "@jupyter-widgets/controls",
      "_model_module_version": "1.5.0",
      "_model_name": "DescriptionStyleModel",
      "_view_count": null,
      "_view_module": "@jupyter-widgets/base",
      "_view_module_version": "1.2.0",
      "_view_name": "StyleView",
      "description_width": ""
     }
    },
    "22975517dd83411ba507a4224d83a929": {
     "model_module": "@jupyter-widgets/controls",
     "model_module_version": "1.5.0",
     "model_name": "DescriptionStyleModel",
     "state": {
      "_model_module": "@jupyter-widgets/controls",
      "_model_module_version": "1.5.0",
      "_model_name": "DescriptionStyleModel",
      "_view_count": null,
      "_view_module": "@jupyter-widgets/base",
      "_view_module_version": "1.2.0",
      "_view_name": "StyleView",
      "description_width": ""
     }
    },
    "2cd5c49c4e44414cac95dc8f564c6447": {
     "model_module": "@jupyter-widgets/controls",
     "model_module_version": "1.5.0",
     "model_name": "FloatProgressModel",
     "state": {
      "_dom_classes": [],
      "_model_module": "@jupyter-widgets/controls",
      "_model_module_version": "1.5.0",
      "_model_name": "FloatProgressModel",
      "_view_count": null,
      "_view_module": "@jupyter-widgets/controls",
      "_view_module_version": "1.5.0",
      "_view_name": "ProgressView",
      "bar_style": "success",
      "description": "",
      "description_tooltip": null,
      "layout": "IPY_MODEL_ad222e6f87c245a8b48857d571f7ad73",
      "max": 256,
      "min": 0,
      "orientation": "horizontal",
      "style": "IPY_MODEL_64b2691bc5fb440d8bd75f4b05c6afd6",
      "value": 256
     }
    },
    "3285707e45b5465384b973ba6789dd51": {
     "model_module": "@jupyter-widgets/controls",
     "model_module_version": "1.5.0",
     "model_name": "FloatProgressModel",
     "state": {
      "_dom_classes": [],
      "_model_module": "@jupyter-widgets/controls",
      "_model_module_version": "1.5.0",
      "_model_name": "FloatProgressModel",
      "_view_count": null,
      "_view_module": "@jupyter-widgets/controls",
      "_view_module_version": "1.5.0",
      "_view_name": "ProgressView",
      "bar_style": "success",
      "description": "",
      "description_tooltip": null,
      "layout": "IPY_MODEL_4592fad2c6b944ac95d80ab4ceaba7cd",
      "max": 256,
      "min": 0,
      "orientation": "horizontal",
      "style": "IPY_MODEL_35b8fdaa6593485581316b6d387d3ac2",
      "value": 256
     }
    },
    "35b8fdaa6593485581316b6d387d3ac2": {
     "model_module": "@jupyter-widgets/controls",
     "model_module_version": "1.5.0",
     "model_name": "ProgressStyleModel",
     "state": {
      "_model_module": "@jupyter-widgets/controls",
      "_model_module_version": "1.5.0",
      "_model_name": "ProgressStyleModel",
      "_view_count": null,
      "_view_module": "@jupyter-widgets/base",
      "_view_module_version": "1.2.0",
      "_view_name": "StyleView",
      "bar_color": null,
      "description_width": ""
     }
    },
    "4376e6334a76494987ae85d972b1c0bc": {
     "model_module": "@jupyter-widgets/base",
     "model_module_version": "1.2.0",
     "model_name": "LayoutModel",
     "state": {
      "_model_module": "@jupyter-widgets/base",
      "_model_module_version": "1.2.0",
      "_model_name": "LayoutModel",
      "_view_count": null,
      "_view_module": "@jupyter-widgets/base",
      "_view_module_version": "1.2.0",
      "_view_name": "LayoutView",
      "align_content": null,
      "align_items": null,
      "align_self": null,
      "border": null,
      "bottom": null,
      "display": null,
      "flex": null,
      "flex_flow": null,
      "grid_area": null,
      "grid_auto_columns": null,
      "grid_auto_flow": null,
      "grid_auto_rows": null,
      "grid_column": null,
      "grid_gap": null,
      "grid_row": null,
      "grid_template_areas": null,
      "grid_template_columns": null,
      "grid_template_rows": null,
      "height": null,
      "justify_content": null,
      "justify_items": null,
      "left": null,
      "margin": null,
      "max_height": null,
      "max_width": null,
      "min_height": null,
      "min_width": null,
      "object_fit": null,
      "object_position": null,
      "order": null,
      "overflow": null,
      "overflow_x": null,
      "overflow_y": null,
      "padding": null,
      "right": null,
      "top": null,
      "visibility": null,
      "width": null
     }
    },
    "44e2bfe4ba5e47fb8bd7488774c55feb": {
     "model_module": "@jupyter-widgets/controls",
     "model_module_version": "1.5.0",
     "model_name": "HTMLModel",
     "state": {
      "_dom_classes": [],
      "_model_module": "@jupyter-widgets/controls",
      "_model_module_version": "1.5.0",
      "_model_name": "HTMLModel",
      "_view_count": null,
      "_view_module": "@jupyter-widgets/controls",
      "_view_module_version": "1.5.0",
      "_view_name": "HTMLView",
      "description": "",
      "description_tooltip": null,
      "layout": "IPY_MODEL_bbf42144a15242adb01984d943ae8d1d",
      "placeholder": "​",
      "style": "IPY_MODEL_e901d5a0279a42e49269c2465d8985e5",
      "value": " 232k/232k [00:00&lt;00:00, 563kB/s]"
     }
    },
    "4592fad2c6b944ac95d80ab4ceaba7cd": {
     "model_module": "@jupyter-widgets/base",
     "model_module_version": "1.2.0",
     "model_name": "LayoutModel",
     "state": {
      "_model_module": "@jupyter-widgets/base",
      "_model_module_version": "1.2.0",
      "_model_name": "LayoutModel",
      "_view_count": null,
      "_view_module": "@jupyter-widgets/base",
      "_view_module_version": "1.2.0",
      "_view_name": "LayoutView",
      "align_content": null,
      "align_items": null,
      "align_self": null,
      "border": null,
      "bottom": null,
      "display": null,
      "flex": null,
      "flex_flow": null,
      "grid_area": null,
      "grid_auto_columns": null,
      "grid_auto_flow": null,
      "grid_auto_rows": null,
      "grid_column": null,
      "grid_gap": null,
      "grid_row": null,
      "grid_template_areas": null,
      "grid_template_columns": null,
      "grid_template_rows": null,
      "height": null,
      "justify_content": null,
      "justify_items": null,
      "left": null,
      "margin": null,
      "max_height": null,
      "max_width": null,
      "min_height": null,
      "min_width": null,
      "object_fit": null,
      "object_position": null,
      "order": null,
      "overflow": null,
      "overflow_x": null,
      "overflow_y": null,
      "padding": null,
      "right": null,
      "top": null,
      "visibility": null,
      "width": null
     }
    },
    "4d84d12803084eaea6efe35b6effdf6b": {
     "model_module": "@jupyter-widgets/base",
     "model_module_version": "1.2.0",
     "model_name": "LayoutModel",
     "state": {
      "_model_module": "@jupyter-widgets/base",
      "_model_module_version": "1.2.0",
      "_model_name": "LayoutModel",
      "_view_count": null,
      "_view_module": "@jupyter-widgets/base",
      "_view_module_version": "1.2.0",
      "_view_name": "LayoutView",
      "align_content": null,
      "align_items": null,
      "align_self": null,
      "border": null,
      "bottom": null,
      "display": null,
      "flex": null,
      "flex_flow": null,
      "grid_area": null,
      "grid_auto_columns": null,
      "grid_auto_flow": null,
      "grid_auto_rows": null,
      "grid_column": null,
      "grid_gap": null,
      "grid_row": null,
      "grid_template_areas": null,
      "grid_template_columns": null,
      "grid_template_rows": null,
      "height": null,
      "justify_content": null,
      "justify_items": null,
      "left": null,
      "margin": null,
      "max_height": null,
      "max_width": null,
      "min_height": null,
      "min_width": null,
      "object_fit": null,
      "object_position": null,
      "order": null,
      "overflow": null,
      "overflow_x": null,
      "overflow_y": null,
      "padding": null,
      "right": null,
      "top": null,
      "visibility": null,
      "width": null
     }
    },
    "4f20da76f18d40089837d5b6363d2c7c": {
     "model_module": "@jupyter-widgets/controls",
     "model_module_version": "1.5.0",
     "model_name": "HBoxModel",
     "state": {
      "_dom_classes": [],
      "_model_module": "@jupyter-widgets/controls",
      "_model_module_version": "1.5.0",
      "_model_name": "HBoxModel",
      "_view_count": null,
      "_view_module": "@jupyter-widgets/controls",
      "_view_module_version": "1.5.0",
      "_view_name": "HBoxView",
      "box_style": "",
      "children": [
       "IPY_MODEL_ae6967648f4c46a7931e0bc9e145445b",
       "IPY_MODEL_703e144da8344b8db7c92e67a7f67097",
       "IPY_MODEL_44e2bfe4ba5e47fb8bd7488774c55feb"
      ],
      "layout": "IPY_MODEL_13c3f45eb5a447dda29d89aa4eac1563"
     }
    },
    "5ed2be4b2b644030877b8c8dfff212af": {
     "model_module": "@jupyter-widgets/controls",
     "model_module_version": "1.5.0",
     "model_name": "HTMLModel",
     "state": {
      "_dom_classes": [],
      "_model_module": "@jupyter-widgets/controls",
      "_model_module_version": "1.5.0",
      "_model_name": "HTMLModel",
      "_view_count": null,
      "_view_module": "@jupyter-widgets/controls",
      "_view_module_version": "1.5.0",
      "_view_name": "HTMLView",
      "description": "",
      "description_tooltip": null,
      "layout": "IPY_MODEL_9339c21e45504986bf430499b8fbbca8",
      "placeholder": "​",
      "style": "IPY_MODEL_22975517dd83411ba507a4224d83a929",
      "value": " 256/256 [00:12&lt;00:00, 21.64it/s]"
     }
    },
    "64b2691bc5fb440d8bd75f4b05c6afd6": {
     "model_module": "@jupyter-widgets/controls",
     "model_module_version": "1.5.0",
     "model_name": "ProgressStyleModel",
     "state": {
      "_model_module": "@jupyter-widgets/controls",
      "_model_module_version": "1.5.0",
      "_model_name": "ProgressStyleModel",
      "_view_count": null,
      "_view_module": "@jupyter-widgets/base",
      "_view_module_version": "1.2.0",
      "_view_name": "StyleView",
      "bar_color": null,
      "description_width": ""
     }
    },
    "692f6219c44a4671be44fa63ab7f66bb": {
     "model_module": "@jupyter-widgets/controls",
     "model_module_version": "1.5.0",
     "model_name": "HBoxModel",
     "state": {
      "_dom_classes": [],
      "_model_module": "@jupyter-widgets/controls",
      "_model_module_version": "1.5.0",
      "_model_name": "HBoxModel",
      "_view_count": null,
      "_view_module": "@jupyter-widgets/controls",
      "_view_module_version": "1.5.0",
      "_view_name": "HBoxView",
      "box_style": "",
      "children": [
       "IPY_MODEL_cd86681f9a814914a13d9d5c2204f8e9",
       "IPY_MODEL_dfc507b035fb4abb8aec7657c5062e28",
       "IPY_MODEL_062fc07f7b7544c29a66b4a27479c8a3"
      ],
      "layout": "IPY_MODEL_b2789c1fd4c644e8beb418340d912cb4"
     }
    },
    "6dbf9c19c2f04507809736f2fc2b0204": {
     "model_module": "@jupyter-widgets/controls",
     "model_module_version": "1.5.0",
     "model_name": "HBoxModel",
     "state": {
      "_dom_classes": [],
      "_model_module": "@jupyter-widgets/controls",
      "_model_module_version": "1.5.0",
      "_model_name": "HBoxModel",
      "_view_count": null,
      "_view_module": "@jupyter-widgets/controls",
      "_view_module_version": "1.5.0",
      "_view_name": "HBoxView",
      "box_style": "",
      "children": [
       "IPY_MODEL_e46069d00558434fb871b09e431c127b",
       "IPY_MODEL_3285707e45b5465384b973ba6789dd51",
       "IPY_MODEL_5ed2be4b2b644030877b8c8dfff212af"
      ],
      "layout": "IPY_MODEL_eb1c1c28d03046019546ac3c873b1570"
     }
    },
    "703e144da8344b8db7c92e67a7f67097": {
     "model_module": "@jupyter-widgets/controls",
     "model_module_version": "1.5.0",
     "model_name": "FloatProgressModel",
     "state": {
      "_dom_classes": [],
      "_model_module": "@jupyter-widgets/controls",
      "_model_module_version": "1.5.0",
      "_model_name": "FloatProgressModel",
      "_view_count": null,
      "_view_module": "@jupyter-widgets/controls",
      "_view_module_version": "1.5.0",
      "_view_name": "ProgressView",
      "bar_style": "success",
      "description": "",
      "description_tooltip": null,
      "layout": "IPY_MODEL_760407cb1c4648f198eafc76b6b99bbd",
      "max": 231508,
      "min": 0,
      "orientation": "horizontal",
      "style": "IPY_MODEL_ce18882c12e74faba3c9b724e21f8513",
      "value": 231508
     }
    },
    "71e163c95217429d81808b11df592487": {
     "model_module": "@jupyter-widgets/controls",
     "model_module_version": "1.5.0",
     "model_name": "DescriptionStyleModel",
     "state": {
      "_model_module": "@jupyter-widgets/controls",
      "_model_module_version": "1.5.0",
      "_model_name": "DescriptionStyleModel",
      "_view_count": null,
      "_view_module": "@jupyter-widgets/base",
      "_view_module_version": "1.2.0",
      "_view_name": "StyleView",
      "description_width": ""
     }
    },
    "760407cb1c4648f198eafc76b6b99bbd": {
     "model_module": "@jupyter-widgets/base",
     "model_module_version": "1.2.0",
     "model_name": "LayoutModel",
     "state": {
      "_model_module": "@jupyter-widgets/base",
      "_model_module_version": "1.2.0",
      "_model_name": "LayoutModel",
      "_view_count": null,
      "_view_module": "@jupyter-widgets/base",
      "_view_module_version": "1.2.0",
      "_view_name": "LayoutView",
      "align_content": null,
      "align_items": null,
      "align_self": null,
      "border": null,
      "bottom": null,
      "display": null,
      "flex": null,
      "flex_flow": null,
      "grid_area": null,
      "grid_auto_columns": null,
      "grid_auto_flow": null,
      "grid_auto_rows": null,
      "grid_column": null,
      "grid_gap": null,
      "grid_row": null,
      "grid_template_areas": null,
      "grid_template_columns": null,
      "grid_template_rows": null,
      "height": null,
      "justify_content": null,
      "justify_items": null,
      "left": null,
      "margin": null,
      "max_height": null,
      "max_width": null,
      "min_height": null,
      "min_width": null,
      "object_fit": null,
      "object_position": null,
      "order": null,
      "overflow": null,
      "overflow_x": null,
      "overflow_y": null,
      "padding": null,
      "right": null,
      "top": null,
      "visibility": null,
      "width": null
     }
    },
    "9339c21e45504986bf430499b8fbbca8": {
     "model_module": "@jupyter-widgets/base",
     "model_module_version": "1.2.0",
     "model_name": "LayoutModel",
     "state": {
      "_model_module": "@jupyter-widgets/base",
      "_model_module_version": "1.2.0",
      "_model_name": "LayoutModel",
      "_view_count": null,
      "_view_module": "@jupyter-widgets/base",
      "_view_module_version": "1.2.0",
      "_view_name": "LayoutView",
      "align_content": null,
      "align_items": null,
      "align_self": null,
      "border": null,
      "bottom": null,
      "display": null,
      "flex": null,
      "flex_flow": null,
      "grid_area": null,
      "grid_auto_columns": null,
      "grid_auto_flow": null,
      "grid_auto_rows": null,
      "grid_column": null,
      "grid_gap": null,
      "grid_row": null,
      "grid_template_areas": null,
      "grid_template_columns": null,
      "grid_template_rows": null,
      "height": null,
      "justify_content": null,
      "justify_items": null,
      "left": null,
      "margin": null,
      "max_height": null,
      "max_width": null,
      "min_height": null,
      "min_width": null,
      "object_fit": null,
      "object_position": null,
      "order": null,
      "overflow": null,
      "overflow_x": null,
      "overflow_y": null,
      "padding": null,
      "right": null,
      "top": null,
      "visibility": null,
      "width": null
     }
    },
    "94dc2a3488b044fda0b51cd326788f3d": {
     "model_module": "@jupyter-widgets/controls",
     "model_module_version": "1.5.0",
     "model_name": "HTMLModel",
     "state": {
      "_dom_classes": [],
      "_model_module": "@jupyter-widgets/controls",
      "_model_module_version": "1.5.0",
      "_model_name": "HTMLModel",
      "_view_count": null,
      "_view_module": "@jupyter-widgets/controls",
      "_view_module_version": "1.5.0",
      "_view_name": "HTMLView",
      "description": "",
      "description_tooltip": null,
      "layout": "IPY_MODEL_fbadd2771f1d4483ac1f942443aed528",
      "placeholder": "​",
      "style": "IPY_MODEL_1ac063b4e5c84d86bdce7beea90bfbaa",
      "value": "100%"
     }
    },
    "9783df9e95d74d89a82e67dd39a779b5": {
     "model_module": "@jupyter-widgets/base",
     "model_module_version": "1.2.0",
     "model_name": "LayoutModel",
     "state": {
      "_model_module": "@jupyter-widgets/base",
      "_model_module_version": "1.2.0",
      "_model_name": "LayoutModel",
      "_view_count": null,
      "_view_module": "@jupyter-widgets/base",
      "_view_module_version": "1.2.0",
      "_view_name": "LayoutView",
      "align_content": null,
      "align_items": null,
      "align_self": null,
      "border": null,
      "bottom": null,
      "display": null,
      "flex": null,
      "flex_flow": null,
      "grid_area": null,
      "grid_auto_columns": null,
      "grid_auto_flow": null,
      "grid_auto_rows": null,
      "grid_column": null,
      "grid_gap": null,
      "grid_row": null,
      "grid_template_areas": null,
      "grid_template_columns": null,
      "grid_template_rows": null,
      "height": null,
      "justify_content": null,
      "justify_items": null,
      "left": null,
      "margin": null,
      "max_height": null,
      "max_width": null,
      "min_height": null,
      "min_width": null,
      "object_fit": null,
      "object_position": null,
      "order": null,
      "overflow": null,
      "overflow_x": null,
      "overflow_y": null,
      "padding": null,
      "right": null,
      "top": null,
      "visibility": null,
      "width": null
     }
    },
    "9bdb6ba6066e4c97a1a5dc2925c6971f": {
     "model_module": "@jupyter-widgets/base",
     "model_module_version": "1.2.0",
     "model_name": "LayoutModel",
     "state": {
      "_model_module": "@jupyter-widgets/base",
      "_model_module_version": "1.2.0",
      "_model_name": "LayoutModel",
      "_view_count": null,
      "_view_module": "@jupyter-widgets/base",
      "_view_module_version": "1.2.0",
      "_view_name": "LayoutView",
      "align_content": null,
      "align_items": null,
      "align_self": null,
      "border": null,
      "bottom": null,
      "display": null,
      "flex": null,
      "flex_flow": null,
      "grid_area": null,
      "grid_auto_columns": null,
      "grid_auto_flow": null,
      "grid_auto_rows": null,
      "grid_column": null,
      "grid_gap": null,
      "grid_row": null,
      "grid_template_areas": null,
      "grid_template_columns": null,
      "grid_template_rows": null,
      "height": null,
      "justify_content": null,
      "justify_items": null,
      "left": null,
      "margin": null,
      "max_height": null,
      "max_width": null,
      "min_height": null,
      "min_width": null,
      "object_fit": null,
      "object_position": null,
      "order": null,
      "overflow": null,
      "overflow_x": null,
      "overflow_y": null,
      "padding": null,
      "right": null,
      "top": null,
      "visibility": null,
      "width": null
     }
    },
    "9cbd40493f67488c80b308bf22322faa": {
     "model_module": "@jupyter-widgets/controls",
     "model_module_version": "1.5.0",
     "model_name": "DescriptionStyleModel",
     "state": {
      "_model_module": "@jupyter-widgets/controls",
      "_model_module_version": "1.5.0",
      "_model_name": "DescriptionStyleModel",
      "_view_count": null,
      "_view_module": "@jupyter-widgets/base",
      "_view_module_version": "1.2.0",
      "_view_name": "StyleView",
      "description_width": ""
     }
    },
    "a26242544d6c469c913e0eb5fb272394": {
     "model_module": "@jupyter-widgets/controls",
     "model_module_version": "1.5.0",
     "model_name": "HTMLModel",
     "state": {
      "_dom_classes": [],
      "_model_module": "@jupyter-widgets/controls",
      "_model_module_version": "1.5.0",
      "_model_name": "HTMLModel",
      "_view_count": null,
      "_view_module": "@jupyter-widgets/controls",
      "_view_module_version": "1.5.0",
      "_view_name": "HTMLView",
      "description": "",
      "description_tooltip": null,
      "layout": "IPY_MODEL_edc1303de6fe4c99abc9b19ac9a9b298",
      "placeholder": "​",
      "style": "IPY_MODEL_9cbd40493f67488c80b308bf22322faa",
      "value": " 256/256 [00:00&lt;00:00, 450.87it/s]"
     }
    },
    "aa2270981ede4dc394616e144d28612d": {
     "model_module": "@jupyter-widgets/controls",
     "model_module_version": "1.5.0",
     "model_name": "DescriptionStyleModel",
     "state": {
      "_model_module": "@jupyter-widgets/controls",
      "_model_module_version": "1.5.0",
      "_model_name": "DescriptionStyleModel",
      "_view_count": null,
      "_view_module": "@jupyter-widgets/base",
      "_view_module_version": "1.2.0",
      "_view_name": "StyleView",
      "description_width": ""
     }
    },
    "ad222e6f87c245a8b48857d571f7ad73": {
     "model_module": "@jupyter-widgets/base",
     "model_module_version": "1.2.0",
     "model_name": "LayoutModel",
     "state": {
      "_model_module": "@jupyter-widgets/base",
      "_model_module_version": "1.2.0",
      "_model_name": "LayoutModel",
      "_view_count": null,
      "_view_module": "@jupyter-widgets/base",
      "_view_module_version": "1.2.0",
      "_view_name": "LayoutView",
      "align_content": null,
      "align_items": null,
      "align_self": null,
      "border": null,
      "bottom": null,
      "display": null,
      "flex": null,
      "flex_flow": null,
      "grid_area": null,
      "grid_auto_columns": null,
      "grid_auto_flow": null,
      "grid_auto_rows": null,
      "grid_column": null,
      "grid_gap": null,
      "grid_row": null,
      "grid_template_areas": null,
      "grid_template_columns": null,
      "grid_template_rows": null,
      "height": null,
      "justify_content": null,
      "justify_items": null,
      "left": null,
      "margin": null,
      "max_height": null,
      "max_width": null,
      "min_height": null,
      "min_width": null,
      "object_fit": null,
      "object_position": null,
      "order": null,
      "overflow": null,
      "overflow_x": null,
      "overflow_y": null,
      "padding": null,
      "right": null,
      "top": null,
      "visibility": null,
      "width": null
     }
    },
    "ae6967648f4c46a7931e0bc9e145445b": {
     "model_module": "@jupyter-widgets/controls",
     "model_module_version": "1.5.0",
     "model_name": "HTMLModel",
     "state": {
      "_dom_classes": [],
      "_model_module": "@jupyter-widgets/controls",
      "_model_module_version": "1.5.0",
      "_model_name": "HTMLModel",
      "_view_count": null,
      "_view_module": "@jupyter-widgets/controls",
      "_view_module_version": "1.5.0",
      "_view_name": "HTMLView",
      "description": "",
      "description_tooltip": null,
      "layout": "IPY_MODEL_d90f4509622543a98425bf475dedc8ad",
      "placeholder": "​",
      "style": "IPY_MODEL_e21d01d6f99b485483cbe7d3424e4093",
      "value": "Downloading: 100%"
     }
    },
    "b2789c1fd4c644e8beb418340d912cb4": {
     "model_module": "@jupyter-widgets/base",
     "model_module_version": "1.2.0",
     "model_name": "LayoutModel",
     "state": {
      "_model_module": "@jupyter-widgets/base",
      "_model_module_version": "1.2.0",
      "_model_name": "LayoutModel",
      "_view_count": null,
      "_view_module": "@jupyter-widgets/base",
      "_view_module_version": "1.2.0",
      "_view_name": "LayoutView",
      "align_content": null,
      "align_items": null,
      "align_self": null,
      "border": null,
      "bottom": null,
      "display": null,
      "flex": null,
      "flex_flow": null,
      "grid_area": null,
      "grid_auto_columns": null,
      "grid_auto_flow": null,
      "grid_auto_rows": null,
      "grid_column": null,
      "grid_gap": null,
      "grid_row": null,
      "grid_template_areas": null,
      "grid_template_columns": null,
      "grid_template_rows": null,
      "height": null,
      "justify_content": null,
      "justify_items": null,
      "left": null,
      "margin": null,
      "max_height": null,
      "max_width": null,
      "min_height": null,
      "min_width": null,
      "object_fit": null,
      "object_position": null,
      "order": null,
      "overflow": null,
      "overflow_x": null,
      "overflow_y": null,
      "padding": null,
      "right": null,
      "top": null,
      "visibility": null,
      "width": null
     }
    },
    "bbf42144a15242adb01984d943ae8d1d": {
     "model_module": "@jupyter-widgets/base",
     "model_module_version": "1.2.0",
     "model_name": "LayoutModel",
     "state": {
      "_model_module": "@jupyter-widgets/base",
      "_model_module_version": "1.2.0",
      "_model_name": "LayoutModel",
      "_view_count": null,
      "_view_module": "@jupyter-widgets/base",
      "_view_module_version": "1.2.0",
      "_view_name": "LayoutView",
      "align_content": null,
      "align_items": null,
      "align_self": null,
      "border": null,
      "bottom": null,
      "display": null,
      "flex": null,
      "flex_flow": null,
      "grid_area": null,
      "grid_auto_columns": null,
      "grid_auto_flow": null,
      "grid_auto_rows": null,
      "grid_column": null,
      "grid_gap": null,
      "grid_row": null,
      "grid_template_areas": null,
      "grid_template_columns": null,
      "grid_template_rows": null,
      "height": null,
      "justify_content": null,
      "justify_items": null,
      "left": null,
      "margin": null,
      "max_height": null,
      "max_width": null,
      "min_height": null,
      "min_width": null,
      "object_fit": null,
      "object_position": null,
      "order": null,
      "overflow": null,
      "overflow_x": null,
      "overflow_y": null,
      "padding": null,
      "right": null,
      "top": null,
      "visibility": null,
      "width": null
     }
    },
    "cd86681f9a814914a13d9d5c2204f8e9": {
     "model_module": "@jupyter-widgets/controls",
     "model_module_version": "1.5.0",
     "model_name": "HTMLModel",
     "state": {
      "_dom_classes": [],
      "_model_module": "@jupyter-widgets/controls",
      "_model_module_version": "1.5.0",
      "_model_name": "HTMLModel",
      "_view_count": null,
      "_view_module": "@jupyter-widgets/controls",
      "_view_module_version": "1.5.0",
      "_view_name": "HTMLView",
      "description": "",
      "description_tooltip": null,
      "layout": "IPY_MODEL_9bdb6ba6066e4c97a1a5dc2925c6971f",
      "placeholder": "​",
      "style": "IPY_MODEL_ddde60d75e4e4f64af8cfceae8f001b0",
      "value": "100%"
     }
    },
    "ce18882c12e74faba3c9b724e21f8513": {
     "model_module": "@jupyter-widgets/controls",
     "model_module_version": "1.5.0",
     "model_name": "ProgressStyleModel",
     "state": {
      "_model_module": "@jupyter-widgets/controls",
      "_model_module_version": "1.5.0",
      "_model_name": "ProgressStyleModel",
      "_view_count": null,
      "_view_module": "@jupyter-widgets/base",
      "_view_module_version": "1.2.0",
      "_view_name": "StyleView",
      "bar_color": null,
      "description_width": ""
     }
    },
    "d90f4509622543a98425bf475dedc8ad": {
     "model_module": "@jupyter-widgets/base",
     "model_module_version": "1.2.0",
     "model_name": "LayoutModel",
     "state": {
      "_model_module": "@jupyter-widgets/base",
      "_model_module_version": "1.2.0",
      "_model_name": "LayoutModel",
      "_view_count": null,
      "_view_module": "@jupyter-widgets/base",
      "_view_module_version": "1.2.0",
      "_view_name": "LayoutView",
      "align_content": null,
      "align_items": null,
      "align_self": null,
      "border": null,
      "bottom": null,
      "display": null,
      "flex": null,
      "flex_flow": null,
      "grid_area": null,
      "grid_auto_columns": null,
      "grid_auto_flow": null,
      "grid_auto_rows": null,
      "grid_column": null,
      "grid_gap": null,
      "grid_row": null,
      "grid_template_areas": null,
      "grid_template_columns": null,
      "grid_template_rows": null,
      "height": null,
      "justify_content": null,
      "justify_items": null,
      "left": null,
      "margin": null,
      "max_height": null,
      "max_width": null,
      "min_height": null,
      "min_width": null,
      "object_fit": null,
      "object_position": null,
      "order": null,
      "overflow": null,
      "overflow_x": null,
      "overflow_y": null,
      "padding": null,
      "right": null,
      "top": null,
      "visibility": null,
      "width": null
     }
    },
    "ddde60d75e4e4f64af8cfceae8f001b0": {
     "model_module": "@jupyter-widgets/controls",
     "model_module_version": "1.5.0",
     "model_name": "DescriptionStyleModel",
     "state": {
      "_model_module": "@jupyter-widgets/controls",
      "_model_module_version": "1.5.0",
      "_model_name": "DescriptionStyleModel",
      "_view_count": null,
      "_view_module": "@jupyter-widgets/base",
      "_view_module_version": "1.2.0",
      "_view_name": "StyleView",
      "description_width": ""
     }
    },
    "dfc507b035fb4abb8aec7657c5062e28": {
     "model_module": "@jupyter-widgets/controls",
     "model_module_version": "1.5.0",
     "model_name": "FloatProgressModel",
     "state": {
      "_dom_classes": [],
      "_model_module": "@jupyter-widgets/controls",
      "_model_module_version": "1.5.0",
      "_model_name": "FloatProgressModel",
      "_view_count": null,
      "_view_module": "@jupyter-widgets/controls",
      "_view_module_version": "1.5.0",
      "_view_name": "ProgressView",
      "bar_style": "success",
      "description": "",
      "description_tooltip": null,
      "layout": "IPY_MODEL_4376e6334a76494987ae85d972b1c0bc",
      "max": 256,
      "min": 0,
      "orientation": "horizontal",
      "style": "IPY_MODEL_fe48b10d483748628664e64821345fa2",
      "value": 256
     }
    },
    "e21d01d6f99b485483cbe7d3424e4093": {
     "model_module": "@jupyter-widgets/controls",
     "model_module_version": "1.5.0",
     "model_name": "DescriptionStyleModel",
     "state": {
      "_model_module": "@jupyter-widgets/controls",
      "_model_module_version": "1.5.0",
      "_model_name": "DescriptionStyleModel",
      "_view_count": null,
      "_view_module": "@jupyter-widgets/base",
      "_view_module_version": "1.2.0",
      "_view_name": "StyleView",
      "description_width": ""
     }
    },
    "e46069d00558434fb871b09e431c127b": {
     "model_module": "@jupyter-widgets/controls",
     "model_module_version": "1.5.0",
     "model_name": "HTMLModel",
     "state": {
      "_dom_classes": [],
      "_model_module": "@jupyter-widgets/controls",
      "_model_module_version": "1.5.0",
      "_model_name": "HTMLModel",
      "_view_count": null,
      "_view_module": "@jupyter-widgets/controls",
      "_view_module_version": "1.5.0",
      "_view_name": "HTMLView",
      "description": "",
      "description_tooltip": null,
      "layout": "IPY_MODEL_4d84d12803084eaea6efe35b6effdf6b",
      "placeholder": "​",
      "style": "IPY_MODEL_aa2270981ede4dc394616e144d28612d",
      "value": "100%"
     }
    },
    "e4fedeca26b84decaf09181959268c44": {
     "model_module": "@jupyter-widgets/controls",
     "model_module_version": "1.5.0",
     "model_name": "HBoxModel",
     "state": {
      "_dom_classes": [],
      "_model_module": "@jupyter-widgets/controls",
      "_model_module_version": "1.5.0",
      "_model_name": "HBoxModel",
      "_view_count": null,
      "_view_module": "@jupyter-widgets/controls",
      "_view_module_version": "1.5.0",
      "_view_name": "HBoxView",
      "box_style": "",
      "children": [
       "IPY_MODEL_94dc2a3488b044fda0b51cd326788f3d",
       "IPY_MODEL_2cd5c49c4e44414cac95dc8f564c6447",
       "IPY_MODEL_a26242544d6c469c913e0eb5fb272394"
      ],
      "layout": "IPY_MODEL_9783df9e95d74d89a82e67dd39a779b5"
     }
    },
    "e901d5a0279a42e49269c2465d8985e5": {
     "model_module": "@jupyter-widgets/controls",
     "model_module_version": "1.5.0",
     "model_name": "DescriptionStyleModel",
     "state": {
      "_model_module": "@jupyter-widgets/controls",
      "_model_module_version": "1.5.0",
      "_model_name": "DescriptionStyleModel",
      "_view_count": null,
      "_view_module": "@jupyter-widgets/base",
      "_view_module_version": "1.2.0",
      "_view_name": "StyleView",
      "description_width": ""
     }
    },
    "eb1c1c28d03046019546ac3c873b1570": {
     "model_module": "@jupyter-widgets/base",
     "model_module_version": "1.2.0",
     "model_name": "LayoutModel",
     "state": {
      "_model_module": "@jupyter-widgets/base",
      "_model_module_version": "1.2.0",
      "_model_name": "LayoutModel",
      "_view_count": null,
      "_view_module": "@jupyter-widgets/base",
      "_view_module_version": "1.2.0",
      "_view_name": "LayoutView",
      "align_content": null,
      "align_items": null,
      "align_self": null,
      "border": null,
      "bottom": null,
      "display": null,
      "flex": null,
      "flex_flow": null,
      "grid_area": null,
      "grid_auto_columns": null,
      "grid_auto_flow": null,
      "grid_auto_rows": null,
      "grid_column": null,
      "grid_gap": null,
      "grid_row": null,
      "grid_template_areas": null,
      "grid_template_columns": null,
      "grid_template_rows": null,
      "height": null,
      "justify_content": null,
      "justify_items": null,
      "left": null,
      "margin": null,
      "max_height": null,
      "max_width": null,
      "min_height": null,
      "min_width": null,
      "object_fit": null,
      "object_position": null,
      "order": null,
      "overflow": null,
      "overflow_x": null,
      "overflow_y": null,
      "padding": null,
      "right": null,
      "top": null,
      "visibility": null,
      "width": null
     }
    },
    "edc1303de6fe4c99abc9b19ac9a9b298": {
     "model_module": "@jupyter-widgets/base",
     "model_module_version": "1.2.0",
     "model_name": "LayoutModel",
     "state": {
      "_model_module": "@jupyter-widgets/base",
      "_model_module_version": "1.2.0",
      "_model_name": "LayoutModel",
      "_view_count": null,
      "_view_module": "@jupyter-widgets/base",
      "_view_module_version": "1.2.0",
      "_view_name": "LayoutView",
      "align_content": null,
      "align_items": null,
      "align_self": null,
      "border": null,
      "bottom": null,
      "display": null,
      "flex": null,
      "flex_flow": null,
      "grid_area": null,
      "grid_auto_columns": null,
      "grid_auto_flow": null,
      "grid_auto_rows": null,
      "grid_column": null,
      "grid_gap": null,
      "grid_row": null,
      "grid_template_areas": null,
      "grid_template_columns": null,
      "grid_template_rows": null,
      "height": null,
      "justify_content": null,
      "justify_items": null,
      "left": null,
      "margin": null,
      "max_height": null,
      "max_width": null,
      "min_height": null,
      "min_width": null,
      "object_fit": null,
      "object_position": null,
      "order": null,
      "overflow": null,
      "overflow_x": null,
      "overflow_y": null,
      "padding": null,
      "right": null,
      "top": null,
      "visibility": null,
      "width": null
     }
    },
    "fbadd2771f1d4483ac1f942443aed528": {
     "model_module": "@jupyter-widgets/base",
     "model_module_version": "1.2.0",
     "model_name": "LayoutModel",
     "state": {
      "_model_module": "@jupyter-widgets/base",
      "_model_module_version": "1.2.0",
      "_model_name": "LayoutModel",
      "_view_count": null,
      "_view_module": "@jupyter-widgets/base",
      "_view_module_version": "1.2.0",
      "_view_name": "LayoutView",
      "align_content": null,
      "align_items": null,
      "align_self": null,
      "border": null,
      "bottom": null,
      "display": null,
      "flex": null,
      "flex_flow": null,
      "grid_area": null,
      "grid_auto_columns": null,
      "grid_auto_flow": null,
      "grid_auto_rows": null,
      "grid_column": null,
      "grid_gap": null,
      "grid_row": null,
      "grid_template_areas": null,
      "grid_template_columns": null,
      "grid_template_rows": null,
      "height": null,
      "justify_content": null,
      "justify_items": null,
      "left": null,
      "margin": null,
      "max_height": null,
      "max_width": null,
      "min_height": null,
      "min_width": null,
      "object_fit": null,
      "object_position": null,
      "order": null,
      "overflow": null,
      "overflow_x": null,
      "overflow_y": null,
      "padding": null,
      "right": null,
      "top": null,
      "visibility": null,
      "width": null
     }
    },
    "fe48b10d483748628664e64821345fa2": {
     "model_module": "@jupyter-widgets/controls",
     "model_module_version": "1.5.0",
     "model_name": "ProgressStyleModel",
     "state": {
      "_model_module": "@jupyter-widgets/controls",
      "_model_module_version": "1.5.0",
      "_model_name": "ProgressStyleModel",
      "_view_count": null,
      "_view_module": "@jupyter-widgets/base",
      "_view_module_version": "1.2.0",
      "_view_name": "StyleView",
      "bar_color": null,
      "description_width": ""
     }
    }
   }
  }
 },
 "nbformat": 4,
 "nbformat_minor": 1
}
